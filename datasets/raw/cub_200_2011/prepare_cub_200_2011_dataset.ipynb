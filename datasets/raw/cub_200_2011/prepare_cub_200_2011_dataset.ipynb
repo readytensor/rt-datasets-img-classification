{
 "cells": [
  {
   "cell_type": "code",
   "execution_count": 2,
   "id": "3a1d7609",
   "metadata": {},
   "outputs": [],
   "source": [
    "import os\n",
    "import tarfile\n",
    "import requests\n",
    "from tqdm import tqdm"
   ]
  },
  {
   "cell_type": "code",
   "execution_count": 3,
   "id": "4f58ced5",
   "metadata": {},
   "outputs": [
    {
     "ename": "NameError",
     "evalue": "name 'paths' is not defined",
     "output_type": "error",
     "traceback": [
      "\u001b[1;31m---------------------------------------------------------------------------\u001b[0m",
      "\u001b[1;31mNameError\u001b[0m                                 Traceback (most recent call last)",
      "Cell \u001b[1;32mIn[3], line 3\u001b[0m\n\u001b[0;32m      1\u001b[0m url \u001b[38;5;241m=\u001b[39m \u001b[38;5;124m\"\u001b[39m\u001b[38;5;124mhttps://data.caltech.edu/records/65de6-vp158/files/CUB_200_2011.tgz?download=1\u001b[39m\u001b[38;5;124m\"\u001b[39m\n\u001b[0;32m      2\u001b[0m dataset_filename \u001b[38;5;241m=\u001b[39m \u001b[38;5;124m\"\u001b[39m\u001b[38;5;124mCUB_200_2011.tgz\u001b[39m\u001b[38;5;124m\"\u001b[39m\n\u001b[1;32m----> 3\u001b[0m download_location \u001b[38;5;241m=\u001b[39m os\u001b[38;5;241m.\u001b[39mpath\u001b[38;5;241m.\u001b[39mjoin(paths\u001b[38;5;241m.\u001b[39mRAW_DIR, \u001b[38;5;124m\"\u001b[39m\u001b[38;5;124mCUB-200-2011\u001b[39m\u001b[38;5;124m\"\u001b[39m, \u001b[38;5;124m\"\u001b[39m\u001b[38;5;124mdata\u001b[39m\u001b[38;5;124m\"\u001b[39m)\n\u001b[0;32m      4\u001b[0m dataset_path \u001b[38;5;241m=\u001b[39m os\u001b[38;5;241m.\u001b[39mpath\u001b[38;5;241m.\u001b[39mjoin(download_location, dataset_filename)\n\u001b[0;32m      5\u001b[0m extract_to_path \u001b[38;5;241m=\u001b[39m download_location\n",
      "\u001b[1;31mNameError\u001b[0m: name 'paths' is not defined"
     ]
    }
   ],
   "source": [
    "url = \"https://data.caltech.edu/records/65de6-vp158/files/CUB_200_2011.tgz?download=1\"\n",
    "dataset_filename = \"CUB_200_2011.tgz\"\n",
    "download_location = os.path.join(paths.RAW_DIR, \"CUB-200-2011\", \"data\")\n",
    "dataset_path = os.path.join(download_location, dataset_filename)\n",
    "extract_to_path = download_location"
   ]
  },
  {
   "cell_type": "code",
   "execution_count": null,
   "id": "37addda6",
   "metadata": {},
   "outputs": [],
   "source": []
  }
 ],
 "metadata": {
  "kernelspec": {
   "display_name": "Python 3 (ipykernel)",
   "language": "python",
   "name": "python3"
  },
  "language_info": {
   "codemirror_mode": {
    "name": "ipython",
    "version": 3
   },
   "file_extension": ".py",
   "mimetype": "text/x-python",
   "name": "python",
   "nbconvert_exporter": "python",
   "pygments_lexer": "ipython3",
   "version": "3.11.5"
  }
 },
 "nbformat": 4,
 "nbformat_minor": 5
}
