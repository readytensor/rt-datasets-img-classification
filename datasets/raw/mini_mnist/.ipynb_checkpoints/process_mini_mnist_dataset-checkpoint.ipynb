{
 "cells": [
  {
   "cell_type": "code",
   "execution_count": 11,
   "id": "2898474a",
   "metadata": {},
   "outputs": [],
   "source": [
    "import numpy as np\n",
    "import pandas as pd\n",
    "import tensorflow as tf\n",
    "import os\n",
    "import shutil\n",
    "from PIL import Image\n",
    "from typing import Tuple, List"
   ]
  },
  {
   "cell_type": "code",
   "execution_count": 12,
   "id": "f9e81d9d",
   "metadata": {},
   "outputs": [],
   "source": [
    "dataset_name = 'mini_mnist'"
   ]
  },
  {
   "cell_type": "code",
   "execution_count": 13,
   "id": "d96d0da3",
   "metadata": {},
   "outputs": [],
   "source": [
    "input_dir = '.' \n",
    "output_dir = f'./../../processed/{dataset_name}/'"
   ]
  },
  {
   "cell_type": "markdown",
   "id": "cf4a4ccb",
   "metadata": {},
   "source": [
    "# Process Mini MNIST Data"
   ]
  },
  {
   "cell_type": "code",
   "execution_count": 14,
   "id": "05ad6f09",
   "metadata": {},
   "outputs": [],
   "source": [
    "# Load MNIST data\n",
    "(x_train, y_train), (x_test, y_test) = tf.keras.datasets.mnist.load_data()"
   ]
  },
  {
   "cell_type": "code",
   "execution_count": 15,
   "id": "68b79d73",
   "metadata": {},
   "outputs": [
    {
     "name": "stdout",
     "output_type": "stream",
     "text": [
      "(60000, 28, 28) (60000,) (10000, 28, 28) (10000,)\n"
     ]
    }
   ],
   "source": [
    "print(x_train.shape, y_train.shape, x_test.shape, y_test.shape)"
   ]
  },
  {
   "cell_type": "code",
   "execution_count": 16,
   "id": "5773e85d",
   "metadata": {},
   "outputs": [
    {
     "name": "stdout",
     "output_type": "stream",
     "text": [
      "Cleared training directory.\n",
      "Cleared testing directory.\n"
     ]
    }
   ],
   "source": [
    "def clear_data_folders(base_dir: str) -> None:\n",
    "    \"\"\"\n",
    "    Clears the contents of the training and testing directories within the specified base directory.\n",
    "\n",
    "    Args:\n",
    "        base_dir (str): The path to the base directory containing 'training' and 'testing' subdirectories.\n",
    "\n",
    "    Returns:\n",
    "        None: This function does not return a value but clears specified directories.\n",
    "    \"\"\"\n",
    "    for dataset_type in ['training', 'testing']:\n",
    "        dir_path = os.path.join(base_dir, dataset_type)\n",
    "        # Check if the directory exists\n",
    "        if os.path.exists(dir_path):\n",
    "            # Remove the directory and its contents, then recreate the directory\n",
    "            shutil.rmtree(dir_path)\n",
    "            os.makedirs(dir_path, exist_ok=True)\n",
    "            print(f\"Cleared {dataset_type} directory.\")\n",
    "        else:\n",
    "            # If the directory does not exist, create it\n",
    "            os.makedirs(dir_path, exist_ok=True)\n",
    "            print(f\"Created {dataset_type} directory.\")\n",
    "\n",
    "\n",
    "clear_data_folders(output_dir)"
   ]
  },
  {
   "cell_type": "code",
   "execution_count": 17,
   "id": "e9a9d9b5",
   "metadata": {},
   "outputs": [],
   "source": [
    "def save_images(\n",
    "        images: np.ndarray,\n",
    "        labels: np.ndarray,\n",
    "        dataset_type: str,\n",
    "        sampling_frac: float,\n",
    "        seed: int = 42\n",
    "    ) -> None:\n",
    "    \"\"\"\n",
    "    Saves a fraction of images from the MNIST dataset to disk, organized in directories corresponding\n",
    "    to their labels, with stratified sampling to maintain class distribution.\n",
    "\n",
    "    Args:\n",
    "        images (np.ndarray): A numpy array of images, where each image is represented as a 28x28 matrix\n",
    "                             of pixel values.\n",
    "        labels (np.ndarray): A numpy array of labels corresponding to the images, indicating the digit\n",
    "                            (0 through 9).\n",
    "        dataset_type (str): A string indicating the dataset type ('training' or 'testing') for directory\n",
    "                            organization.\n",
    "        sampling_frac (float): A float between 0 and 1 indicating the fraction of the dataset to save.\n",
    "        seed (int, optional): An integer seed for reproducibility of the sampling. Defaults to 42.\n",
    "\n",
    "    Returns:\n",
    "        None: This function does not return a value but saves a fraction of images to the disk.\n",
    "    \"\"\"\n",
    "    np.random.seed(seed)  # Fix the seed for reproducibility\n",
    "    unique_labels = np.unique(labels)\n",
    "    \n",
    "    print(f\"Processing {sampling_frac*100}% of images from {dataset_type} set...\")\n",
    "\n",
    "    for label in unique_labels:\n",
    "        # Filter images and labels for the current label\n",
    "        idxs = np.where(labels == label)[0]\n",
    "        # Stratified sampling: select a fraction of indices for the current label\n",
    "        sampled_idxs = np.random.choice(idxs, size=int(len(idxs) * sampling_frac), replace=False)\n",
    "\n",
    "        for idx in sampled_idxs:\n",
    "            image = images[idx]\n",
    "            # Directory path for the current label\n",
    "            label_dir = os.path.join(output_dir, dataset_type, str(label))\n",
    "            # Create directory if it doesn't exist\n",
    "            os.makedirs(label_dir, exist_ok=True)\n",
    "            # Image file path\n",
    "            image_file = os.path.join(label_dir, f'{idx}.jpg')\n",
    "            # Save the image\n",
    "            img = Image.fromarray(image)\n",
    "            img.save(image_file, 'JPEG')\n",
    "    \n",
    "    print(f\"Done processing images in {dataset_type} set.\")"
   ]
  },
  {
   "cell_type": "code",
   "execution_count": 18,
   "id": "760f509b",
   "metadata": {},
   "outputs": [
    {
     "name": "stdout",
     "output_type": "stream",
     "text": [
      "Processing 10.0% of images from training set...\n",
      "Done processing images in training set.\n",
      "Processing 10.0% of images from testing set...\n",
      "Done processing images in testing set.\n",
      "Images have been saved.\n"
     ]
    }
   ],
   "source": [
    "# Sample and Save training images\n",
    "sampling_frac = 0.1\n",
    "\n",
    "save_images(x_train, y_train, 'training', sampling_frac)\n",
    "# Save testing images\n",
    "save_images(x_test, y_test, 'testing', sampling_frac)\n",
    "\n",
    "print(\"Images have been saved.\")"
   ]
  }
 ],
 "metadata": {
  "kernelspec": {
   "display_name": "Python 3 (ipykernel)",
   "language": "python",
   "name": "python3"
  },
  "language_info": {
   "codemirror_mode": {
    "name": "ipython",
    "version": 3
   },
   "file_extension": ".py",
   "mimetype": "text/x-python",
   "name": "python",
   "nbconvert_exporter": "python",
   "pygments_lexer": "ipython3",
   "version": "3.11.5"
  }
 },
 "nbformat": 4,
 "nbformat_minor": 5
}
