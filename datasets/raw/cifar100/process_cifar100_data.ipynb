{
 "cells": [
  {
   "cell_type": "code",
   "execution_count": 1,
   "id": "22ef8447",
   "metadata": {},
   "outputs": [
    {
     "name": "stderr",
     "output_type": "stream",
     "text": [
      "2024-04-02 14:50:49.897196: I tensorflow/core/platform/cpu_feature_guard.cc:210] This TensorFlow binary is optimized to use available CPU instructions in performance-critical operations.\n",
      "To enable the following instructions: AVX2 FMA, in other operations, rebuild TensorFlow with the appropriate compiler flags.\n"
     ]
    }
   ],
   "source": [
    "import numpy as np\n",
    "import pandas as pd\n",
    "import tensorflow as tf\n",
    "import os\n",
    "import shutil\n",
    "from PIL import Image\n",
    "from typing import Tuple, List"
   ]
  },
  {
   "cell_type": "code",
   "execution_count": 2,
   "id": "c6735e69",
   "metadata": {},
   "outputs": [],
   "source": [
    "dataset_name = 'cifar100'"
   ]
  },
  {
   "cell_type": "code",
   "execution_count": 3,
   "id": "d13c2607",
   "metadata": {},
   "outputs": [],
   "source": [
    "input_dir = '.' \n",
    "output_dir = f'./../../processed/{dataset_name}/'"
   ]
  },
  {
   "cell_type": "markdown",
   "id": "6d90f198",
   "metadata": {},
   "source": [
    "# Process cifar100 Data"
   ]
  },
  {
   "cell_type": "code",
   "execution_count": 4,
   "id": "49e0bbc2",
   "metadata": {},
   "outputs": [
    {
     "name": "stdout",
     "output_type": "stream",
     "text": [
      "Downloading data from https://www.cs.toronto.edu/~kriz/cifar-100-python.tar.gz\n",
      "\u001b[1m169001437/169001437\u001b[0m \u001b[32m━━━━━━━━━━━━━━━━━━━━\u001b[0m\u001b[37m\u001b[0m \u001b[1m83s\u001b[0m 0us/step\n"
     ]
    }
   ],
   "source": [
    "# Load MNIST data\n",
    "(x_train, y_train), (x_test, y_test) = tf.keras.datasets.cifar100.load_data()\n",
    "\n",
    "y_train = y_train.flatten()\n",
    "y_test = y_test.flatten()"
   ]
  },
  {
   "cell_type": "code",
   "execution_count": 5,
   "id": "3d3629a4",
   "metadata": {},
   "outputs": [
    {
     "name": "stdout",
     "output_type": "stream",
     "text": [
      "(50000, 32, 32, 3) (50000,) (10000, 32, 32, 3) (10000,)\n"
     ]
    }
   ],
   "source": [
    "print(x_train.shape, y_train.shape, x_test.shape, y_test.shape)"
   ]
  },
  {
   "cell_type": "code",
   "execution_count": 6,
   "id": "1046b197",
   "metadata": {},
   "outputs": [
    {
     "data": {
      "text/plain": [
       "array([19, 29,  0, ...,  3,  7, 73])"
      ]
     },
     "execution_count": 6,
     "metadata": {},
     "output_type": "execute_result"
    }
   ],
   "source": [
    "y_train"
   ]
  },
  {
   "cell_type": "code",
   "execution_count": 9,
   "id": "43beeae9",
   "metadata": {},
   "outputs": [],
   "source": [
    "idx_to_label = {\n",
    "    0: 'apple',\n",
    "    1: 'aquarium fish',\n",
    "    2: 'baby',\n",
    "    3: 'bear',\n",
    "    4: 'beaver',\n",
    "    5: 'bed',\n",
    "    6: 'bee',\n",
    "    7: 'beetle',\n",
    "    8: 'bicycle',\n",
    "    9: 'bottle',\n",
    "    10: 'bowl',\n",
    "    11: 'boy',\n",
    "    12: 'bridge',\n",
    "    13: 'bus',\n",
    "    14: 'butterfly',\n",
    "    15: 'camel',\n",
    "    16: 'can',\n",
    "    17: 'castle',\n",
    "    18: 'caterpillar',\n",
    "    19: 'cattle',\n",
    "    20: 'chair',\n",
    "    21: 'chimpanzee',\n",
    "    22: 'clock',\n",
    "    23: 'cloud',\n",
    "    24: 'cockroach',\n",
    "    25: 'couch',\n",
    "    26: 'crab',\n",
    "    27: 'crocodile',\n",
    "    28: 'cup',\n",
    "    29: 'dinosaur',\n",
    "    30: 'dolphin',\n",
    "    31: 'elephant',\n",
    "    32: 'flatfish',\n",
    "    33: 'forest',\n",
    "    34: 'fox',\n",
    "    35: 'girl',\n",
    "    36: 'hamster',\n",
    "    37: 'house',\n",
    "    38: 'kangaroo',\n",
    "    39: 'keyboard',\n",
    "    40: 'lamp',\n",
    "    41: 'lawn mower',\n",
    "    42: 'leopard',\n",
    "    43: 'lion',\n",
    "    44: 'lizard',\n",
    "    45: 'lobster',\n",
    "    46: 'man',\n",
    "    47: 'maple tree',\n",
    "    48: 'motorcycle',\n",
    "    49: 'mountain',\n",
    "    50: 'mouse',\n",
    "    51: 'mushroom',\n",
    "    52: 'oak tree',\n",
    "    53: 'orange',\n",
    "    54: 'orchid',\n",
    "    55: 'otter',\n",
    "    56: 'palm tree',\n",
    "    57: 'pear',\n",
    "    58: 'pickup truck',\n",
    "    59: 'pine tree',\n",
    "    60: 'plain',\n",
    "    61: 'plate',\n",
    "    62: 'poppy',\n",
    "    63: 'porcupine',\n",
    "    64: 'possum',\n",
    "    65: 'rabbit',\n",
    "    66: 'raccoon',\n",
    "    67: 'ray',\n",
    "    68: 'road',\n",
    "    69: 'rocket',\n",
    "    70: 'rose',\n",
    "    71: 'sea',\n",
    "    72: 'seal',\n",
    "    73: 'shark',\n",
    "    74: 'shrew',\n",
    "    75: 'skunk',\n",
    "    76: 'skyscraper',\n",
    "    77: 'snail',\n",
    "    78: 'snake',\n",
    "    79: 'spider',\n",
    "    80: 'squirrel',\n",
    "    81: 'streetcar',\n",
    "    82: 'sunflower',\n",
    "    83: 'sweet pepper',\n",
    "    84: 'table',\n",
    "    85: 'tank',\n",
    "    86: 'telephone',\n",
    "    87: 'television',\n",
    "    88: 'tiger',\n",
    "    89: 'tractor',\n",
    "    90: 'train',\n",
    "    91: 'trout',\n",
    "    92: 'tulip',\n",
    "    93: 'turtle',\n",
    "    94: 'wardrobe',\n",
    "    95: 'whale',\n",
    "    96: 'willow tree',\n",
    "     97: 'wolf',\n",
    "    98: 'woman',\n",
    "    99: 'worm'\n",
    "}\n"
   ]
  },
  {
   "cell_type": "code",
   "execution_count": 10,
   "id": "e7e3dfc2",
   "metadata": {},
   "outputs": [
    {
     "name": "stdout",
     "output_type": "stream",
     "text": [
      "Created training directory.\n",
      "Created testing directory.\n"
     ]
    }
   ],
   "source": [
    "def clear_data_folders(base_dir: str) -> None:\n",
    "    \"\"\"\n",
    "    Clears the contents of the training and testing directories within the specified base directory.\n",
    "\n",
    "    Args:\n",
    "        base_dir (str): The path to the base directory containing 'training' and 'testing' subdirectories.\n",
    "\n",
    "    Returns:\n",
    "        None: This function does not return a value but clears specified directories.\n",
    "    \"\"\"\n",
    "    for dataset_type in ['training', 'testing']:\n",
    "        dir_path = os.path.join(base_dir, dataset_type)\n",
    "        # Check if the directory exists\n",
    "        if os.path.exists(dir_path):\n",
    "            # Remove the directory and its contents, then recreate the directory\n",
    "            shutil.rmtree(dir_path)\n",
    "            os.makedirs(dir_path, exist_ok=True)\n",
    "            print(f\"Cleared {dataset_type} directory.\")\n",
    "        else:\n",
    "            # If the directory does not exist, create it\n",
    "            os.makedirs(dir_path, exist_ok=True)\n",
    "            print(f\"Created {dataset_type} directory.\")\n",
    "\n",
    "clear_data_folders(output_dir)"
   ]
  },
  {
   "cell_type": "code",
   "execution_count": 11,
   "id": "1d274a78",
   "metadata": {},
   "outputs": [],
   "source": [
    "# Function to save images\n",
    "def save_images(images: np.ndarray, labels: np.ndarray, dataset_type: str) -> None:\n",
    "    \"\"\"\n",
    "    Saves images from the MNIST dataset to disk, organized in directories corresponding to their labels.\n",
    "\n",
    "    This function iterates over images and their corresponding labels, saving each image in a JPEG format\n",
    "    inside a directory structure organized first by dataset type (training or testing), then by class labels.\n",
    "\n",
    "    Args:\n",
    "        images (np.ndarray): A numpy array of images from the MNIST dataset, where each image is represented\n",
    "                             as a 28x28 matrix of pixel values.\n",
    "        labels (np.ndarray): A numpy array of labels corresponding to the images, indicating the digit\n",
    "                             (0 through 9) that each image represents.\n",
    "        dataset_type (str): A string indicating the dataset type, either 'training' or 'testing', which\n",
    "                            is used to organize the saved images into separate directories.\n",
    "\n",
    "    Returns:\n",
    "        None: This function does not return a value but saves images to the disk.\n",
    "    \"\"\"\n",
    "    print(f\"Processing images from {dataset_type} set...\")\n",
    "    for idx, (image, label_idx) in enumerate(zip(images, labels)):\n",
    "        # Directory path for the current label\n",
    "        label = idx_to_label[label_idx]\n",
    "        label_dir = os.path.join(output_dir, dataset_type, str(label))\n",
    "        # Create directory if it doesn't exist\n",
    "        os.makedirs(label_dir, exist_ok=True)\n",
    "        # Image file path\n",
    "        image_file = os.path.join(label_dir, f'{idx}.jpg')\n",
    "        # Save the image\n",
    "        img = Image.fromarray(image)\n",
    "        img.save(image_file, 'JPEG')\n",
    "        \n",
    "        if idx > 0 and idx % 5000 == 0: \n",
    "            print(f\"Processed {idx} images.\")\n",
    "    print(f\"Done processing {idx+1} images in {dataset_type} set\")"
   ]
  },
  {
   "cell_type": "code",
   "execution_count": 12,
   "id": "5bbae13f",
   "metadata": {},
   "outputs": [
    {
     "name": "stdout",
     "output_type": "stream",
     "text": [
      "Processing images from training set...\n",
      "Processed 5000 images.\n",
      "Processed 10000 images.\n",
      "Processed 15000 images.\n",
      "Processed 20000 images.\n",
      "Processed 25000 images.\n",
      "Processed 30000 images.\n",
      "Processed 35000 images.\n",
      "Processed 40000 images.\n",
      "Processed 45000 images.\n",
      "Done processing 50000 images in training set\n",
      "Processing images from testing set...\n",
      "Processed 5000 images.\n",
      "Done processing 10000 images in testing set\n",
      "Images have been saved.\n"
     ]
    }
   ],
   "source": [
    "# Save training images\n",
    "save_images(x_train, y_train, 'training')\n",
    "# Save testing images\n",
    "save_images(x_test, y_test, 'testing')\n",
    "\n",
    "print(\"Images have been saved.\")"
   ]
  },
  {
   "cell_type": "code",
   "execution_count": null,
   "id": "a1d8e6bc",
   "metadata": {},
   "outputs": [],
   "source": []
  }
 ],
 "metadata": {
  "kernelspec": {
   "display_name": "Python 3 (ipykernel)",
   "language": "python",
   "name": "python3"
  },
  "language_info": {
   "codemirror_mode": {
    "name": "ipython",
    "version": 3
   },
   "file_extension": ".py",
   "mimetype": "text/x-python",
   "name": "python",
   "nbconvert_exporter": "python",
   "pygments_lexer": "ipython3",
   "version": "3.10.8"
  }
 },
 "nbformat": 4,
 "nbformat_minor": 5
}
